{
 "cells": [
  {
   "cell_type": "markdown",
   "metadata": {},
   "source": [
    "### Используя сверточные слои и архитектуру получите на fashion mnist качество не ниже 89,5%"
   ]
  },
  {
   "cell_type": "code",
   "execution_count": 1,
   "metadata": {},
   "outputs": [],
   "source": [
    "import matplotlib.pyplot as plt\n",
    "import torch\n",
    "import numpy as np\n",
    "import torchvision as tv\n",
    "import time\n",
    "%matplotlib inline\n",
    "from torch import nn"
   ]
  },
  {
   "cell_type": "code",
   "execution_count": 2,
   "metadata": {},
   "outputs": [],
   "source": [
    "train_dataset = tv.datasets.FashionMNIST('./fashion', train=True, transform=tv.transforms.ToTensor(), download=True)\n",
    "test_dataset = tv.datasets.FashionMNIST('./fashion', train=False, transform=tv.transforms.ToTensor(), download=True)\n"
   ]
  },
  {
   "cell_type": "code",
   "execution_count": 3,
   "metadata": {},
   "outputs": [],
   "source": [
    "BATCH_SIZE = 512\n",
    "train_iter= torch.utils.data.DataLoader(train_dataset, batch_size=BATCH_SIZE, shuffle=True)\n",
    "test_iter = torch.utils.data.DataLoader(test_dataset, batch_size=BATCH_SIZE, shuffle=True)"
   ]
  },
  {
   "cell_type": "markdown",
   "metadata": {},
   "source": [
    "### Возьмем пока Lenet"
   ]
  },
  {
   "cell_type": "code",
   "execution_count": 4,
   "metadata": {},
   "outputs": [],
   "source": [
    "model = nn.Sequential(\n",
    "    nn.Conv2d(1, 6, kernel_size=5, padding=2),\n",
    "    nn.ReLU(),\n",
    "    nn.MaxPool2d(2, stride=2),\n",
    "    nn.Conv2d(6, 12, kernel_size=5),\n",
    "    nn.ReLU(),\n",
    "    nn.MaxPool2d(2, stride=2),\n",
    "    nn.Flatten(),\n",
    "    nn.Linear(300, 50),\n",
    "    nn.ReLU(),\n",
    "    nn.Linear(50, 10)\n",
    ")"
   ]
  },
  {
   "cell_type": "code",
   "execution_count": 5,
   "metadata": {
    "ExecuteTime": {
     "end_time": "2019-11-14T21:43:43.967577Z",
     "start_time": "2019-11-14T21:43:43.963101Z"
    },
    "colab": {},
    "colab_type": "code",
    "id": "AXokXQUzw6Lr"
   },
   "outputs": [],
   "source": [
    "dev = torch.device(\"cuda\") if torch.cuda.is_available() else torch.device(\"cpu\")"
   ]
  },
  {
   "cell_type": "code",
   "execution_count": 6,
   "metadata": {
    "ExecuteTime": {
     "end_time": "2019-11-14T21:43:43.977459Z",
     "start_time": "2019-11-14T21:43:43.970316Z"
    },
    "colab": {
     "base_uri": "https://localhost:8080/",
     "height": 34
    },
    "colab_type": "code",
    "id": "xLQMfiFVxRfv",
    "outputId": "4abcca57-4e9f-46cc-9963-4c221f293080"
   },
   "outputs": [
    {
     "data": {
      "text/plain": [
       "device(type='cuda')"
      ]
     },
     "execution_count": 6,
     "metadata": {},
     "output_type": "execute_result"
    }
   ],
   "source": [
    "dev"
   ]
  },
  {
   "cell_type": "code",
   "execution_count": 7,
   "metadata": {
    "ExecuteTime": {
     "end_time": "2019-11-14T21:43:43.987680Z",
     "start_time": "2019-11-14T21:43:43.982555Z"
    },
    "colab": {},
    "colab_type": "code",
    "id": "3DSc7YPtxClu"
   },
   "outputs": [],
   "source": [
    "model = model.to(dev)"
   ]
  },
  {
   "cell_type": "code",
   "execution_count": 8,
   "metadata": {
    "ExecuteTime": {
     "end_time": "2019-11-14T21:43:44.003390Z",
     "start_time": "2019-11-14T21:43:43.991202Z"
    },
    "colab": {},
    "colab_type": "code",
    "id": "1kAS0WRUxQU9"
   },
   "outputs": [],
   "source": [
    "def train(net, train_iter, test_iter, trainer, num_epochs, dev):\n",
    "    loss = nn.CrossEntropyLoss(reduction='sum')\n",
    "    for epoch in range(num_epochs):\n",
    "        train_l_sum, train_acc_sum, n, start = 0.0, 0.0, 0, time.time()\n",
    "        net.train()\n",
    "        for X, y in train_iter:\n",
    "            trainer.zero_grad()\n",
    "            X, y = X.to(dev), y.to(dev)\n",
    "            y_hat = net(X)\n",
    "            #print(y_hat.argmax(axis=1))\n",
    "            l = loss(y_hat, y)\n",
    "            l.backward()\n",
    "            trainer.step()\n",
    "            train_l_sum += l.item()\n",
    "            train_acc_sum += (y_hat.argmax(axis=1) == y).sum().item()\n",
    "            n += y.shape[0]\n",
    "        net.eval()\n",
    "        test_acc = evaluate_accuracy(test_iter, net, dev)\n",
    "        print('epoch %d, loss %.4f, train acc %.3f, test acc %.3f, '\n",
    "              'time %.1f sec'\n",
    "              % (epoch + 1, train_l_sum / n, train_acc_sum / n, test_acc,\n",
    "                 time.time() - start))"
   ]
  },
  {
   "cell_type": "code",
   "execution_count": 9,
   "metadata": {
    "ExecuteTime": {
     "end_time": "2019-11-14T21:43:44.014332Z",
     "start_time": "2019-11-14T21:43:44.006081Z"
    },
    "colab": {},
    "colab_type": "code",
    "id": "luDfZTfjxX3j"
   },
   "outputs": [],
   "source": [
    "def evaluate_accuracy(data_iter, net, dev):\n",
    "    acc_sum, n = torch.Tensor([0]).to(dev), 0\n",
    "    for X, y in data_iter:\n",
    "        X, y = X.to(dev), y.to(dev)\n",
    "        acc_sum += (net(X).argmax(axis=1) == y).sum()\n",
    "        n += y.shape[0]\n",
    "    return acc_sum.item() / n"
   ]
  },
  {
   "cell_type": "code",
   "execution_count": 10,
   "metadata": {
    "ExecuteTime": {
     "end_time": "2019-11-14T21:44:50.015770Z",
     "start_time": "2019-11-14T21:43:44.017767Z"
    },
    "colab": {
     "base_uri": "https://localhost:8080/",
     "height": 100
    },
    "colab_type": "code",
    "id": "gRP8hgY1xedj",
    "outputId": "2804178b-cf8d-4910-c930-1d927810e755"
   },
   "outputs": [
    {
     "name": "stdout",
     "output_type": "stream",
     "text": [
      "epoch 1, loss 2.1281, train acc 0.216, test acc 0.660, time 5.4 sec\n",
      "epoch 2, loss 0.7738, train acc 0.705, test acc 0.765, time 5.4 sec\n",
      "epoch 3, loss 0.5879, train acc 0.777, test acc 0.809, time 5.4 sec\n",
      "epoch 4, loss 0.5040, train acc 0.814, test acc 0.834, time 5.4 sec\n",
      "epoch 5, loss 0.4327, train acc 0.840, test acc 0.841, time 5.4 sec\n",
      "epoch 6, loss 0.3998, train acc 0.852, test acc 0.860, time 5.4 sec\n",
      "epoch 7, loss 0.3732, train acc 0.862, test acc 0.855, time 5.4 sec\n",
      "epoch 8, loss 0.3590, train acc 0.867, test acc 0.864, time 5.3 sec\n",
      "epoch 9, loss 0.3382, train acc 0.874, test acc 0.868, time 5.4 sec\n",
      "epoch 10, loss 0.3295, train acc 0.877, test acc 0.868, time 5.4 sec\n",
      "epoch 11, loss 0.3199, train acc 0.881, test acc 0.873, time 5.4 sec\n",
      "epoch 12, loss 0.3048, train acc 0.885, test acc 0.873, time 5.3 sec\n",
      "epoch 13, loss 0.3018, train acc 0.887, test acc 0.877, time 5.5 sec\n",
      "epoch 14, loss 0.2961, train acc 0.889, test acc 0.876, time 5.5 sec\n",
      "epoch 15, loss 0.2891, train acc 0.892, test acc 0.881, time 5.3 sec\n",
      "epoch 16, loss 0.2825, train acc 0.893, test acc 0.880, time 5.4 sec\n",
      "epoch 17, loss 0.2771, train acc 0.895, test acc 0.880, time 5.4 sec\n",
      "epoch 18, loss 0.2722, train acc 0.896, test acc 0.885, time 5.3 sec\n",
      "epoch 19, loss 0.2695, train acc 0.898, test acc 0.885, time 5.3 sec\n",
      "epoch 20, loss 0.2631, train acc 0.900, test acc 0.885, time 5.3 sec\n",
      "epoch 21, loss 0.2607, train acc 0.901, test acc 0.885, time 5.4 sec\n",
      "epoch 22, loss 0.2593, train acc 0.901, test acc 0.886, time 5.2 sec\n",
      "epoch 23, loss 0.2526, train acc 0.905, test acc 0.888, time 5.2 sec\n",
      "epoch 24, loss 0.2503, train acc 0.905, test acc 0.877, time 5.3 sec\n",
      "epoch 25, loss 0.2494, train acc 0.905, test acc 0.892, time 5.4 sec\n",
      "epoch 26, loss 0.2453, train acc 0.908, test acc 0.887, time 5.3 sec\n",
      "epoch 27, loss 0.2406, train acc 0.909, test acc 0.884, time 5.4 sec\n",
      "epoch 28, loss 0.2360, train acc 0.910, test acc 0.886, time 5.4 sec\n",
      "epoch 29, loss 0.2438, train acc 0.908, test acc 0.890, time 5.4 sec\n",
      "epoch 30, loss 0.2364, train acc 0.910, test acc 0.891, time 5.4 sec\n"
     ]
    }
   ],
   "source": [
    "lr, num_epochs = 0.001, 30\n",
    "trainer = torch.optim.SGD(model.parameters(), lr=lr)\n",
    "train(model, train_iter, test_iter, trainer, num_epochs, dev)"
   ]
  },
  {
   "cell_type": "code",
   "execution_count": 11,
   "metadata": {},
   "outputs": [
    {
     "name": "stdout",
     "output_type": "stream",
     "text": [
      "epoch 1, loss 0.2103, train acc 0.921, test acc 0.892, time 5.6 sec\n",
      "epoch 2, loss 0.2079, train acc 0.921, test acc 0.889, time 5.4 sec\n",
      "epoch 3, loss 0.2054, train acc 0.922, test acc 0.891, time 5.6 sec\n",
      "epoch 4, loss 0.2039, train acc 0.923, test acc 0.892, time 5.4 sec\n",
      "epoch 5, loss 0.2041, train acc 0.923, test acc 0.891, time 5.4 sec\n",
      "epoch 6, loss 0.2021, train acc 0.923, test acc 0.894, time 5.4 sec\n",
      "epoch 7, loss 0.2005, train acc 0.924, test acc 0.893, time 5.4 sec\n",
      "epoch 8, loss 0.1995, train acc 0.924, test acc 0.893, time 5.3 sec\n",
      "epoch 9, loss 0.1987, train acc 0.924, test acc 0.895, time 5.4 sec\n",
      "epoch 10, loss 0.1974, train acc 0.926, test acc 0.893, time 5.3 sec\n",
      "epoch 11, loss 0.1954, train acc 0.925, test acc 0.891, time 5.2 sec\n",
      "epoch 12, loss 0.1960, train acc 0.925, test acc 0.892, time 5.3 sec\n",
      "epoch 13, loss 0.1934, train acc 0.927, test acc 0.890, time 5.4 sec\n",
      "epoch 14, loss 0.1918, train acc 0.927, test acc 0.894, time 5.4 sec\n",
      "epoch 15, loss 0.1917, train acc 0.928, test acc 0.890, time 5.3 sec\n",
      "epoch 16, loss 0.1905, train acc 0.928, test acc 0.893, time 5.4 sec\n",
      "epoch 17, loss 0.1904, train acc 0.928, test acc 0.894, time 5.3 sec\n",
      "epoch 18, loss 0.1889, train acc 0.929, test acc 0.894, time 5.3 sec\n",
      "epoch 19, loss 0.1871, train acc 0.928, test acc 0.894, time 5.3 sec\n",
      "epoch 20, loss 0.1871, train acc 0.929, test acc 0.895, time 5.4 sec\n",
      "epoch 21, loss 0.1860, train acc 0.929, test acc 0.893, time 5.3 sec\n",
      "epoch 22, loss 0.1844, train acc 0.930, test acc 0.894, time 5.4 sec\n",
      "epoch 23, loss 0.1821, train acc 0.931, test acc 0.891, time 5.4 sec\n",
      "epoch 24, loss 0.1840, train acc 0.930, test acc 0.892, time 5.4 sec\n",
      "epoch 25, loss 0.1829, train acc 0.931, test acc 0.894, time 5.3 sec\n",
      "epoch 26, loss 0.1801, train acc 0.932, test acc 0.894, time 5.3 sec\n",
      "epoch 27, loss 0.1820, train acc 0.931, test acc 0.893, time 5.3 sec\n",
      "epoch 28, loss 0.1782, train acc 0.933, test acc 0.894, time 5.3 sec\n",
      "epoch 29, loss 0.1784, train acc 0.932, test acc 0.892, time 5.2 sec\n",
      "epoch 30, loss 0.1766, train acc 0.932, test acc 0.891, time 5.2 sec\n"
     ]
    }
   ],
   "source": [
    "lr, num_epochs = 0.0005, 30\n",
    "trainer = torch.optim.SGD(model.parameters(), lr=lr)\n",
    "train(model, train_iter, test_iter, trainer, num_epochs, dev)"
   ]
  },
  {
   "cell_type": "markdown",
   "metadata": {},
   "source": [
    "* результаты сравнимы с  MLP"
   ]
  },
  {
   "cell_type": "markdown",
   "metadata": {},
   "source": [
    "### Добавим в DENSE BatchNorm и dropout"
   ]
  },
  {
   "cell_type": "code",
   "execution_count": 29,
   "metadata": {},
   "outputs": [],
   "source": [
    "model2 = nn.Sequential(\n",
    "    nn.Conv2d(1, 6, kernel_size=5, padding=2),\n",
    "    nn.ReLU(),\n",
    "    nn.MaxPool2d(2, stride=2),\n",
    "    nn.Conv2d(6, 12, kernel_size=5),\n",
    "    nn.ReLU(),\n",
    "    nn.MaxPool2d(2, stride=2),\n",
    "    nn.Flatten(),\n",
    "    nn.BatchNorm1d(300),\n",
    "    nn.Linear(300, 50),\n",
    "    nn.ReLU(),\n",
    "    nn.BatchNorm1d(50),\n",
    "    nn.Dropout(0.3),\n",
    "    nn.Linear(50, 10)\n",
    ")"
   ]
  },
  {
   "cell_type": "code",
   "execution_count": 31,
   "metadata": {},
   "outputs": [
    {
     "data": {
      "text/plain": [
       "Sequential(\n",
       "  (0): Conv2d(1, 6, kernel_size=(5, 5), stride=(1, 1), padding=(2, 2))\n",
       "  (1): ReLU()\n",
       "  (2): MaxPool2d(kernel_size=2, stride=2, padding=0, dilation=1, ceil_mode=False)\n",
       "  (3): Conv2d(6, 12, kernel_size=(5, 5), stride=(1, 1))\n",
       "  (4): ReLU()\n",
       "  (5): MaxPool2d(kernel_size=2, stride=2, padding=0, dilation=1, ceil_mode=False)\n",
       "  (6): Flatten()\n",
       "  (7): BatchNorm1d(300, eps=1e-05, momentum=0.1, affine=True, track_running_stats=True)\n",
       "  (8): Linear(in_features=300, out_features=50, bias=True)\n",
       "  (9): ReLU()\n",
       "  (10): BatchNorm1d(50, eps=1e-05, momentum=0.1, affine=True, track_running_stats=True)\n",
       "  (11): Dropout(p=0.3, inplace=False)\n",
       "  (12): Linear(in_features=50, out_features=10, bias=True)\n",
       ")"
      ]
     },
     "execution_count": 31,
     "metadata": {},
     "output_type": "execute_result"
    }
   ],
   "source": [
    "model2.cuda()"
   ]
  },
  {
   "cell_type": "code",
   "execution_count": 32,
   "metadata": {},
   "outputs": [
    {
     "name": "stdout",
     "output_type": "stream",
     "text": [
      "epoch 1, loss 0.6542, train acc 0.759, test acc 0.798, time 5.5 sec\n",
      "epoch 2, loss 0.4395, train acc 0.840, test acc 0.844, time 5.4 sec\n",
      "epoch 3, loss 0.3884, train acc 0.858, test acc 0.843, time 5.6 sec\n",
      "epoch 4, loss 0.3675, train acc 0.865, test acc 0.871, time 5.6 sec\n",
      "epoch 5, loss 0.3480, train acc 0.873, test acc 0.876, time 5.5 sec\n",
      "epoch 6, loss 0.3345, train acc 0.877, test acc 0.876, time 5.7 sec\n",
      "epoch 7, loss 0.3263, train acc 0.879, test acc 0.881, time 5.5 sec\n",
      "epoch 8, loss 0.3192, train acc 0.881, test acc 0.876, time 5.7 sec\n",
      "epoch 9, loss 0.3106, train acc 0.885, test acc 0.883, time 5.6 sec\n",
      "epoch 10, loss 0.3041, train acc 0.888, test acc 0.875, time 5.6 sec\n",
      "epoch 11, loss 0.3012, train acc 0.889, test acc 0.882, time 5.6 sec\n",
      "epoch 12, loss 0.2944, train acc 0.892, test acc 0.889, time 5.6 sec\n",
      "epoch 13, loss 0.2906, train acc 0.893, test acc 0.885, time 5.6 sec\n",
      "epoch 14, loss 0.2903, train acc 0.894, test acc 0.881, time 5.5 sec\n",
      "epoch 15, loss 0.2838, train acc 0.896, test acc 0.885, time 5.6 sec\n",
      "epoch 16, loss 0.2825, train acc 0.895, test acc 0.884, time 5.6 sec\n",
      "epoch 17, loss 0.2766, train acc 0.898, test acc 0.893, time 5.6 sec\n",
      "epoch 18, loss 0.2758, train acc 0.898, test acc 0.892, time 5.6 sec\n",
      "epoch 19, loss 0.2742, train acc 0.898, test acc 0.896, time 5.5 sec\n",
      "epoch 20, loss 0.2733, train acc 0.899, test acc 0.892, time 5.5 sec\n",
      "epoch 21, loss 0.2686, train acc 0.902, test acc 0.890, time 5.6 sec\n",
      "epoch 22, loss 0.2676, train acc 0.901, test acc 0.892, time 5.5 sec\n",
      "epoch 23, loss 0.2647, train acc 0.903, test acc 0.893, time 5.6 sec\n",
      "epoch 24, loss 0.2603, train acc 0.903, test acc 0.898, time 5.7 sec\n",
      "epoch 25, loss 0.2620, train acc 0.903, test acc 0.893, time 5.5 sec\n",
      "epoch 26, loss 0.2587, train acc 0.904, test acc 0.891, time 5.6 sec\n",
      "epoch 27, loss 0.2576, train acc 0.905, test acc 0.895, time 5.5 sec\n",
      "epoch 28, loss 0.2535, train acc 0.906, test acc 0.893, time 5.5 sec\n",
      "epoch 29, loss 0.2557, train acc 0.903, test acc 0.890, time 5.5 sec\n",
      "epoch 30, loss 0.2528, train acc 0.907, test acc 0.893, time 5.5 sec\n"
     ]
    }
   ],
   "source": [
    "lr, num_epochs = 0.001, 30\n",
    "trainer = torch.optim.SGD(model2.parameters(), lr=lr)\n",
    "train(model2, train_iter, test_iter, trainer, num_epochs, dev)"
   ]
  },
  {
   "cell_type": "code",
   "execution_count": 33,
   "metadata": {},
   "outputs": [
    {
     "name": "stdout",
     "output_type": "stream",
     "text": [
      "epoch 1, loss 0.2413, train acc 0.911, test acc 0.902, time 5.5 sec\n",
      "epoch 2, loss 0.2382, train acc 0.911, test acc 0.900, time 5.6 sec\n",
      "epoch 3, loss 0.2371, train acc 0.913, test acc 0.898, time 5.6 sec\n",
      "epoch 4, loss 0.2391, train acc 0.912, test acc 0.898, time 5.6 sec\n",
      "epoch 5, loss 0.2351, train acc 0.913, test acc 0.853, time 5.5 sec\n",
      "epoch 6, loss 0.2376, train acc 0.912, test acc 0.901, time 5.5 sec\n",
      "epoch 7, loss 0.2340, train acc 0.914, test acc 0.897, time 5.5 sec\n",
      "epoch 8, loss 0.2320, train acc 0.914, test acc 0.898, time 5.5 sec\n",
      "epoch 9, loss 0.2343, train acc 0.913, test acc 0.897, time 5.5 sec\n",
      "epoch 10, loss 0.2316, train acc 0.915, test acc 0.897, time 5.6 sec\n",
      "epoch 11, loss 0.2320, train acc 0.914, test acc 0.901, time 5.5 sec\n",
      "epoch 12, loss 0.2304, train acc 0.915, test acc 0.903, time 5.4 sec\n",
      "epoch 13, loss 0.2296, train acc 0.915, test acc 0.900, time 5.4 sec\n",
      "epoch 14, loss 0.2316, train acc 0.915, test acc 0.904, time 5.5 sec\n",
      "epoch 15, loss 0.2290, train acc 0.915, test acc 0.906, time 5.5 sec\n",
      "epoch 16, loss 0.2280, train acc 0.917, test acc 0.898, time 5.5 sec\n",
      "epoch 17, loss 0.2285, train acc 0.915, test acc 0.902, time 5.5 sec\n",
      "epoch 18, loss 0.2272, train acc 0.915, test acc 0.899, time 5.5 sec\n",
      "epoch 19, loss 0.2266, train acc 0.915, test acc 0.898, time 5.5 sec\n",
      "epoch 20, loss 0.2260, train acc 0.916, test acc 0.893, time 5.4 sec\n",
      "epoch 21, loss 0.2270, train acc 0.915, test acc 0.888, time 5.7 sec\n",
      "epoch 22, loss 0.2250, train acc 0.916, test acc 0.898, time 5.6 sec\n",
      "epoch 23, loss 0.2268, train acc 0.916, test acc 0.897, time 5.5 sec\n",
      "epoch 24, loss 0.2261, train acc 0.915, test acc 0.894, time 5.5 sec\n",
      "epoch 25, loss 0.2250, train acc 0.917, test acc 0.900, time 5.5 sec\n",
      "epoch 26, loss 0.2252, train acc 0.916, test acc 0.897, time 5.5 sec\n",
      "epoch 27, loss 0.2245, train acc 0.915, test acc 0.902, time 5.6 sec\n",
      "epoch 28, loss 0.2237, train acc 0.917, test acc 0.904, time 5.6 sec\n",
      "epoch 29, loss 0.2211, train acc 0.917, test acc 0.892, time 5.6 sec\n",
      "epoch 30, loss 0.2228, train acc 0.917, test acc 0.895, time 5.6 sec\n"
     ]
    }
   ],
   "source": [
    "lr, num_epochs = 0.0006, 30\n",
    "trainer = torch.optim.SGD(model2.parameters(), lr=lr)\n",
    "train(model2, train_iter, test_iter, trainer, num_epochs, dev)"
   ]
  },
  {
   "cell_type": "markdown",
   "metadata": {},
   "source": [
    "* Вот уже достигли искомы резултататов"
   ]
  },
  {
   "cell_type": "markdown",
   "metadata": {},
   "source": [
    "### Добавим еще один слой конволюции"
   ]
  },
  {
   "cell_type": "code",
   "execution_count": 80,
   "metadata": {},
   "outputs": [],
   "source": [
    "model3 = nn.Sequential(\n",
    "    nn.Conv2d(1, 6, kernel_size=5, padding=2),\n",
    "    nn.ReLU(),\n",
    "    nn.MaxPool2d(2, stride=2),\n",
    "    nn.Conv2d(6, 12, kernel_size=5),\n",
    "    nn.ReLU(),\n",
    "    nn.Conv2d(12, 12, kernel_size=5,padding=2),\n",
    "    nn.ReLU(),\n",
    "    nn.MaxPool2d(2, stride=2),\n",
    "    nn.Flatten(),\n",
    "    nn.BatchNorm1d(300),\n",
    "    nn.Linear(300, 50),\n",
    "    nn.ReLU(),\n",
    "    nn.BatchNorm1d(50),\n",
    "    nn.Dropout(0.3),\n",
    "    nn.Linear(50, 10)\n",
    ")"
   ]
  },
  {
   "cell_type": "code",
   "execution_count": 82,
   "metadata": {},
   "outputs": [
    {
     "name": "stdout",
     "output_type": "stream",
     "text": [
      "epoch 1, loss 0.7881, train acc 0.703, test acc 0.783, time 5.9 sec\n",
      "epoch 2, loss 0.5158, train acc 0.808, test acc 0.823, time 5.9 sec\n",
      "epoch 3, loss 0.4485, train acc 0.835, test acc 0.840, time 6.0 sec\n",
      "epoch 4, loss 0.4114, train acc 0.848, test acc 0.851, time 5.9 sec\n",
      "epoch 5, loss 0.3772, train acc 0.860, test acc 0.862, time 5.9 sec\n",
      "epoch 6, loss 0.3613, train acc 0.868, test acc 0.864, time 5.9 sec\n",
      "epoch 7, loss 0.3482, train acc 0.871, test acc 0.854, time 5.9 sec\n",
      "epoch 8, loss 0.3349, train acc 0.876, test acc 0.864, time 5.9 sec\n",
      "epoch 9, loss 0.3287, train acc 0.879, test acc 0.871, time 5.9 sec\n",
      "epoch 10, loss 0.3164, train acc 0.884, test acc 0.884, time 6.0 sec\n",
      "epoch 11, loss 0.3110, train acc 0.885, test acc 0.882, time 5.9 sec\n",
      "epoch 12, loss 0.3022, train acc 0.889, test acc 0.867, time 6.0 sec\n",
      "epoch 13, loss 0.2972, train acc 0.890, test acc 0.882, time 5.8 sec\n",
      "epoch 14, loss 0.2916, train acc 0.893, test acc 0.889, time 5.9 sec\n",
      "epoch 15, loss 0.2861, train acc 0.895, test acc 0.886, time 5.9 sec\n",
      "epoch 16, loss 0.2856, train acc 0.894, test acc 0.878, time 5.9 sec\n",
      "epoch 17, loss 0.2808, train acc 0.897, test acc 0.892, time 6.0 sec\n",
      "epoch 18, loss 0.2755, train acc 0.899, test acc 0.888, time 5.9 sec\n",
      "epoch 19, loss 0.2733, train acc 0.899, test acc 0.882, time 5.9 sec\n",
      "epoch 20, loss 0.2688, train acc 0.901, test acc 0.888, time 5.9 sec\n",
      "epoch 21, loss 0.2634, train acc 0.902, test acc 0.882, time 5.9 sec\n",
      "epoch 22, loss 0.2640, train acc 0.902, test acc 0.896, time 5.9 sec\n",
      "epoch 23, loss 0.2609, train acc 0.903, test acc 0.874, time 5.9 sec\n",
      "epoch 24, loss 0.2587, train acc 0.904, test acc 0.892, time 5.9 sec\n",
      "epoch 25, loss 0.2545, train acc 0.907, test acc 0.885, time 5.9 sec\n",
      "epoch 26, loss 0.2538, train acc 0.906, test acc 0.889, time 5.8 sec\n",
      "epoch 27, loss 0.2510, train acc 0.908, test acc 0.896, time 5.9 sec\n",
      "epoch 28, loss 0.2509, train acc 0.907, test acc 0.893, time 5.9 sec\n",
      "epoch 29, loss 0.2464, train acc 0.908, test acc 0.893, time 5.9 sec\n",
      "epoch 30, loss 0.2446, train acc 0.910, test acc 0.897, time 6.0 sec\n"
     ]
    }
   ],
   "source": [
    "model3.cuda()\n",
    "lr, num_epochs = 0.001, 30\n",
    "trainer = torch.optim.SGD(model3.parameters(), lr=lr)\n",
    "train(model3, train_iter, test_iter, trainer, num_epochs, dev)"
   ]
  },
  {
   "cell_type": "code",
   "execution_count": 83,
   "metadata": {},
   "outputs": [
    {
     "name": "stdout",
     "output_type": "stream",
     "text": [
      "epoch 1, loss 0.2319, train acc 0.914, test acc 0.893, time 5.9 sec\n",
      "epoch 2, loss 0.2278, train acc 0.915, test acc 0.899, time 5.9 sec\n",
      "epoch 3, loss 0.2271, train acc 0.917, test acc 0.898, time 5.9 sec\n",
      "epoch 4, loss 0.2242, train acc 0.917, test acc 0.897, time 5.9 sec\n",
      "epoch 5, loss 0.2236, train acc 0.917, test acc 0.900, time 5.9 sec\n",
      "epoch 6, loss 0.2219, train acc 0.918, test acc 0.898, time 5.9 sec\n",
      "epoch 7, loss 0.2228, train acc 0.917, test acc 0.903, time 6.0 sec\n",
      "epoch 8, loss 0.2204, train acc 0.919, test acc 0.900, time 5.9 sec\n",
      "epoch 9, loss 0.2176, train acc 0.919, test acc 0.897, time 5.9 sec\n",
      "epoch 10, loss 0.2181, train acc 0.919, test acc 0.898, time 5.9 sec\n",
      "epoch 11, loss 0.2177, train acc 0.920, test acc 0.899, time 5.9 sec\n",
      "epoch 12, loss 0.2163, train acc 0.921, test acc 0.896, time 5.9 sec\n",
      "epoch 13, loss 0.2171, train acc 0.919, test acc 0.904, time 5.9 sec\n",
      "epoch 14, loss 0.2160, train acc 0.920, test acc 0.902, time 6.0 sec\n",
      "epoch 15, loss 0.2130, train acc 0.921, test acc 0.902, time 5.9 sec\n",
      "epoch 16, loss 0.2149, train acc 0.921, test acc 0.901, time 5.9 sec\n",
      "epoch 17, loss 0.2120, train acc 0.921, test acc 0.902, time 5.9 sec\n",
      "epoch 18, loss 0.2130, train acc 0.919, test acc 0.904, time 5.8 sec\n",
      "epoch 19, loss 0.2123, train acc 0.921, test acc 0.900, time 5.7 sec\n",
      "epoch 20, loss 0.2091, train acc 0.922, test acc 0.902, time 6.0 sec\n",
      "epoch 21, loss 0.2108, train acc 0.921, test acc 0.896, time 5.7 sec\n",
      "epoch 22, loss 0.2128, train acc 0.920, test acc 0.899, time 5.9 sec\n",
      "epoch 23, loss 0.2102, train acc 0.922, test acc 0.901, time 5.9 sec\n",
      "epoch 24, loss 0.2084, train acc 0.922, test acc 0.902, time 5.8 sec\n",
      "epoch 25, loss 0.2085, train acc 0.923, test acc 0.902, time 5.9 sec\n",
      "epoch 26, loss 0.2052, train acc 0.922, test acc 0.902, time 5.9 sec\n",
      "epoch 27, loss 0.2063, train acc 0.924, test acc 0.902, time 6.0 sec\n",
      "epoch 28, loss 0.2055, train acc 0.924, test acc 0.900, time 5.8 sec\n",
      "epoch 29, loss 0.2055, train acc 0.923, test acc 0.902, time 5.7 sec\n",
      "epoch 30, loss 0.2026, train acc 0.925, test acc 0.904, time 5.9 sec\n"
     ]
    }
   ],
   "source": [
    "lr, num_epochs = 0.0005, 30\n",
    "trainer = torch.optim.SGD(model3.parameters(), lr=lr)\n",
    "train(model3, train_iter, test_iter, trainer, num_epochs, dev)"
   ]
  },
  {
   "cell_type": "markdown",
   "metadata": {},
   "source": [
    "* снова релуьтат улучшился"
   ]
  },
  {
   "cell_type": "markdown",
   "metadata": {},
   "source": [
    "### Добавим еще один линейный слой"
   ]
  },
  {
   "cell_type": "code",
   "execution_count": 111,
   "metadata": {},
   "outputs": [
    {
     "data": {
      "text/plain": [
       "'\\nX = train_dataset[0][0]\\nX = X.reshape(1, 1, 28, 28)\\nprint(X.shape)\\nfor l in model4:\\n    X = l(X)\\n    print(\"Layer {}. X shape: {}\".format(l, X.shape))\\n'"
      ]
     },
     "execution_count": 111,
     "metadata": {},
     "output_type": "execute_result"
    }
   ],
   "source": [
    "model4 = nn.Sequential(\n",
    "    nn.Conv2d(1, 6, kernel_size=5, padding=2),\n",
    "    nn.ReLU(),\n",
    "    nn.MaxPool2d(2, stride=2),\n",
    "    nn.Conv2d(6, 12, kernel_size=5),\n",
    "    nn.ReLU(),\n",
    "    nn.Conv2d(12, 12, kernel_size=5,padding=2),\n",
    "    nn.ReLU(),\n",
    "    nn.MaxPool2d(2, stride=2),\n",
    "    nn.Conv2d(12, 36 ,kernel_size=4,padding=2),\n",
    "    nn.ReLU(),\n",
    "    nn.MaxPool2d(2, stride=2),\n",
    "    nn.Flatten(),\n",
    "    nn.BatchNorm1d(324),\n",
    "    nn.Linear(324, 50),\n",
    "    nn.ReLU(),\n",
    "    nn.BatchNorm1d(50),\n",
    "    nn.Dropout(0.3),\n",
    "    nn.Linear(50, 10)\n",
    ")\n",
    "\"\"\"\n",
    "X = train_dataset[0][0]\n",
    "X = X.reshape(1, 1, 28, 28)\n",
    "print(X.shape)\n",
    "for l in model4:\n",
    "    X = l(X)\n",
    "    print(\"Layer {}. X shape: {}\".format(l, X.shape))\n",
    "\"\"\""
   ]
  },
  {
   "cell_type": "code",
   "execution_count": 112,
   "metadata": {},
   "outputs": [
    {
     "name": "stdout",
     "output_type": "stream",
     "text": [
      "epoch 1, loss 0.9617, train acc 0.644, test acc 0.676, time 6.1 sec\n",
      "epoch 2, loss 0.6890, train acc 0.742, test acc 0.772, time 6.2 sec\n",
      "epoch 3, loss 0.5641, train acc 0.792, test acc 0.801, time 6.0 sec\n",
      "epoch 4, loss 0.5410, train acc 0.805, test acc 0.691, time 6.0 sec\n",
      "epoch 5, loss 0.5125, train acc 0.812, test acc 0.794, time 6.1 sec\n",
      "epoch 6, loss 0.4611, train acc 0.834, test acc 0.840, time 6.1 sec\n",
      "epoch 7, loss 0.4168, train acc 0.848, test acc 0.838, time 6.1 sec\n",
      "epoch 8, loss 0.3918, train acc 0.856, test acc 0.858, time 6.1 sec\n",
      "epoch 9, loss 0.3711, train acc 0.865, test acc 0.861, time 6.2 sec\n",
      "epoch 10, loss 0.3566, train acc 0.870, test acc 0.867, time 6.0 sec\n",
      "epoch 11, loss 0.3454, train acc 0.875, test acc 0.844, time 6.1 sec\n",
      "epoch 12, loss 0.3352, train acc 0.877, test acc 0.858, time 6.0 sec\n",
      "epoch 13, loss 0.3311, train acc 0.879, test acc 0.855, time 6.1 sec\n",
      "epoch 14, loss 0.3225, train acc 0.882, test acc 0.864, time 6.1 sec\n",
      "epoch 15, loss 0.3157, train acc 0.886, test acc 0.877, time 6.0 sec\n",
      "epoch 16, loss 0.3090, train acc 0.887, test acc 0.879, time 6.0 sec\n",
      "epoch 17, loss 0.3070, train acc 0.887, test acc 0.874, time 6.0 sec\n",
      "epoch 18, loss 0.2960, train acc 0.891, test acc 0.886, time 6.1 sec\n",
      "epoch 19, loss 0.2908, train acc 0.893, test acc 0.870, time 6.0 sec\n",
      "epoch 20, loss 0.2864, train acc 0.895, test acc 0.874, time 6.0 sec\n",
      "epoch 21, loss 0.2818, train acc 0.897, test acc 0.863, time 6.0 sec\n",
      "epoch 22, loss 0.2785, train acc 0.897, test acc 0.879, time 6.1 sec\n",
      "epoch 23, loss 0.2836, train acc 0.897, test acc 0.888, time 6.1 sec\n",
      "epoch 24, loss 0.2711, train acc 0.900, test acc 0.894, time 6.1 sec\n",
      "epoch 25, loss 0.2658, train acc 0.902, test acc 0.880, time 6.1 sec\n",
      "epoch 26, loss 0.2646, train acc 0.903, test acc 0.887, time 6.0 sec\n",
      "epoch 27, loss 0.2617, train acc 0.904, test acc 0.892, time 6.0 sec\n",
      "epoch 28, loss 0.2576, train acc 0.905, test acc 0.882, time 6.0 sec\n",
      "epoch 29, loss 0.2514, train acc 0.908, test acc 0.897, time 6.2 sec\n",
      "epoch 30, loss 0.2520, train acc 0.906, test acc 0.894, time 6.1 sec\n"
     ]
    }
   ],
   "source": [
    "model4.cuda()\n",
    "lr, num_epochs = 0.001, 30\n",
    "trainer = torch.optim.SGD(model4.parameters(), lr=lr)\n",
    "train(model4, train_iter, test_iter, trainer, num_epochs, dev)"
   ]
  },
  {
   "cell_type": "code",
   "execution_count": 113,
   "metadata": {},
   "outputs": [
    {
     "name": "stdout",
     "output_type": "stream",
     "text": [
      "epoch 1, loss 0.2314, train acc 0.915, test acc 0.896, time 6.1 sec\n",
      "epoch 2, loss 0.2272, train acc 0.916, test acc 0.902, time 6.0 sec\n",
      "epoch 3, loss 0.2246, train acc 0.917, test acc 0.898, time 5.9 sec\n",
      "epoch 4, loss 0.2207, train acc 0.919, test acc 0.904, time 6.1 sec\n",
      "epoch 5, loss 0.2193, train acc 0.919, test acc 0.884, time 6.1 sec\n",
      "epoch 6, loss 0.2188, train acc 0.919, test acc 0.895, time 6.2 sec\n",
      "epoch 7, loss 0.2187, train acc 0.920, test acc 0.886, time 6.1 sec\n",
      "epoch 8, loss 0.2158, train acc 0.921, test acc 0.902, time 6.0 sec\n",
      "epoch 9, loss 0.2147, train acc 0.921, test acc 0.898, time 6.1 sec\n",
      "epoch 10, loss 0.2120, train acc 0.921, test acc 0.901, time 6.1 sec\n",
      "epoch 11, loss 0.2138, train acc 0.922, test acc 0.870, time 6.1 sec\n",
      "epoch 12, loss 0.2114, train acc 0.922, test acc 0.902, time 6.1 sec\n",
      "epoch 13, loss 0.2081, train acc 0.923, test acc 0.900, time 6.1 sec\n",
      "epoch 14, loss 0.2095, train acc 0.922, test acc 0.905, time 6.1 sec\n",
      "epoch 15, loss 0.2068, train acc 0.924, test acc 0.899, time 6.1 sec\n",
      "epoch 16, loss 0.2049, train acc 0.924, test acc 0.905, time 6.1 sec\n",
      "epoch 17, loss 0.2037, train acc 0.925, test acc 0.886, time 6.1 sec\n",
      "epoch 18, loss 0.2041, train acc 0.924, test acc 0.898, time 6.1 sec\n",
      "epoch 19, loss 0.2039, train acc 0.925, test acc 0.903, time 6.1 sec\n",
      "epoch 20, loss 0.2006, train acc 0.926, test acc 0.868, time 6.2 sec\n",
      "epoch 21, loss 0.1991, train acc 0.926, test acc 0.904, time 6.1 sec\n",
      "epoch 22, loss 0.1986, train acc 0.925, test acc 0.905, time 6.0 sec\n",
      "epoch 23, loss 0.1983, train acc 0.926, test acc 0.902, time 6.1 sec\n",
      "epoch 24, loss 0.1967, train acc 0.927, test acc 0.903, time 6.1 sec\n",
      "epoch 25, loss 0.1926, train acc 0.927, test acc 0.889, time 6.1 sec\n",
      "epoch 26, loss 0.1942, train acc 0.928, test acc 0.886, time 6.1 sec\n",
      "epoch 27, loss 0.1937, train acc 0.928, test acc 0.901, time 6.2 sec\n",
      "epoch 28, loss 0.2718, train acc 0.905, test acc 0.875, time 6.1 sec\n",
      "epoch 29, loss 0.2423, train acc 0.911, test acc 0.897, time 6.1 sec\n",
      "epoch 30, loss 0.2095, train acc 0.923, test acc 0.904, time 6.1 sec\n"
     ]
    }
   ],
   "source": [
    "lr, num_epochs = 0.0005, 30\n",
    "trainer = torch.optim.SGD(model4.parameters(), lr=lr)\n",
    "train(model4, train_iter, test_iter, trainer, num_epochs, dev)"
   ]
  },
  {
   "cell_type": "markdown",
   "metadata": {},
   "source": [
    "* существенно ничего не поменяялось"
   ]
  },
  {
   "cell_type": "markdown",
   "metadata": {},
   "source": [
    "### добавим пару линеных слоев"
   ]
  },
  {
   "cell_type": "code",
   "execution_count": 117,
   "metadata": {},
   "outputs": [],
   "source": [
    "model5 = nn.Sequential(\n",
    "    nn.Conv2d(1, 6, kernel_size=5, padding=2),\n",
    "    nn.ReLU(),\n",
    "    nn.MaxPool2d(2, stride=2),\n",
    "    nn.Conv2d(6, 12, kernel_size=5),\n",
    "    nn.ReLU(),\n",
    "    nn.Conv2d(12, 12, kernel_size=5,padding=2),\n",
    "    nn.ReLU(),\n",
    "    nn.MaxPool2d(2, stride=2),\n",
    "    nn.Conv2d(12, 36 ,kernel_size=4,padding=2),\n",
    "    nn.ReLU(),\n",
    "    nn.MaxPool2d(2, stride=2),\n",
    "    nn.Flatten(),\n",
    "    nn.BatchNorm1d(324),\n",
    "    nn.Linear(324, 200),\n",
    "    nn.ReLU(),\n",
    "    nn.BatchNorm1d(200),\n",
    "    nn.Dropout(0.3),\n",
    "    nn.Linear(200, 100),\n",
    "    nn.ReLU(),\n",
    "    nn.BatchNorm1d(100),\n",
    "    nn.Dropout(0.3),\n",
    "    nn.Linear(100, 50),\n",
    "    nn.ReLU(),\n",
    "    nn.BatchNorm1d(50),\n",
    "    nn.Dropout(0.3),\n",
    "    nn.Linear(50, 10)\n",
    ")"
   ]
  },
  {
   "cell_type": "code",
   "execution_count": 118,
   "metadata": {},
   "outputs": [
    {
     "name": "stdout",
     "output_type": "stream",
     "text": [
      "epoch 1, loss 0.9665, train acc 0.634, test acc 0.752, time 6.2 sec\n",
      "epoch 2, loss 0.6162, train acc 0.770, test acc 0.515, time 6.2 sec\n",
      "epoch 3, loss 0.5359, train acc 0.807, test acc 0.816, time 6.2 sec\n",
      "epoch 4, loss 0.4724, train acc 0.829, test acc 0.483, time 6.4 sec\n",
      "epoch 5, loss 0.4373, train acc 0.842, test acc 0.823, time 6.2 sec\n",
      "epoch 6, loss 0.4110, train acc 0.850, test acc 0.796, time 6.2 sec\n",
      "epoch 7, loss 0.3913, train acc 0.858, test acc 0.845, time 6.2 sec\n",
      "epoch 8, loss 0.3765, train acc 0.865, test acc 0.875, time 6.2 sec\n",
      "epoch 9, loss 0.3582, train acc 0.871, test acc 0.845, time 6.2 sec\n",
      "epoch 10, loss 0.3537, train acc 0.873, test acc 0.874, time 6.2 sec\n",
      "epoch 11, loss 0.3408, train acc 0.877, test acc 0.872, time 6.3 sec\n",
      "epoch 12, loss 0.3281, train acc 0.883, test acc 0.867, time 6.1 sec\n",
      "epoch 13, loss 0.3166, train acc 0.886, test acc 0.886, time 6.1 sec\n",
      "epoch 14, loss 0.3373, train acc 0.880, test acc 0.863, time 6.0 sec\n",
      "epoch 15, loss 0.3124, train acc 0.887, test acc 0.882, time 6.1 sec\n",
      "epoch 16, loss 0.3019, train acc 0.891, test acc 0.864, time 6.2 sec\n",
      "epoch 17, loss 0.2954, train acc 0.895, test acc 0.891, time 6.2 sec\n",
      "epoch 18, loss 0.2912, train acc 0.896, test acc 0.871, time 6.3 sec\n",
      "epoch 19, loss 0.2840, train acc 0.899, test acc 0.882, time 6.1 sec\n",
      "epoch 20, loss 0.2784, train acc 0.900, test acc 0.886, time 6.2 sec\n",
      "epoch 21, loss 0.2734, train acc 0.903, test acc 0.891, time 6.2 sec\n",
      "epoch 22, loss 0.2686, train acc 0.904, test acc 0.887, time 6.2 sec\n",
      "epoch 23, loss 0.2678, train acc 0.904, test acc 0.877, time 6.2 sec\n",
      "epoch 24, loss 0.2623, train acc 0.907, test acc 0.880, time 6.2 sec\n",
      "epoch 25, loss 0.2600, train acc 0.906, test acc 0.897, time 6.3 sec\n",
      "epoch 26, loss 0.2550, train acc 0.908, test acc 0.863, time 6.2 sec\n",
      "epoch 27, loss 0.2494, train acc 0.911, test acc 0.878, time 6.2 sec\n",
      "epoch 28, loss 0.2478, train acc 0.911, test acc 0.897, time 6.2 sec\n",
      "epoch 29, loss 0.2450, train acc 0.911, test acc 0.900, time 6.2 sec\n",
      "epoch 30, loss 0.2421, train acc 0.913, test acc 0.896, time 6.2 sec\n"
     ]
    }
   ],
   "source": [
    "model5.cuda()\n",
    "lr, num_epochs = 0.001, 30\n",
    "trainer = torch.optim.SGD(model5.parameters(), lr=lr)\n",
    "train(model5, train_iter, test_iter, trainer, num_epochs, dev)"
   ]
  },
  {
   "cell_type": "code",
   "execution_count": 119,
   "metadata": {},
   "outputs": [
    {
     "name": "stdout",
     "output_type": "stream",
     "text": [
      "epoch 1, loss 0.2242, train acc 0.921, test acc 0.906, time 6.2 sec\n",
      "epoch 2, loss 0.2251, train acc 0.920, test acc 0.899, time 6.4 sec\n",
      "epoch 3, loss 0.2212, train acc 0.921, test acc 0.898, time 6.2 sec\n",
      "epoch 4, loss 0.2195, train acc 0.921, test acc 0.907, time 6.2 sec\n",
      "epoch 5, loss 0.2166, train acc 0.923, test acc 0.899, time 6.2 sec\n",
      "epoch 6, loss 0.2132, train acc 0.924, test acc 0.902, time 6.2 sec\n",
      "epoch 7, loss 0.2092, train acc 0.925, test acc 0.901, time 6.2 sec\n",
      "epoch 8, loss 0.2082, train acc 0.926, test acc 0.905, time 6.3 sec\n",
      "epoch 9, loss 0.2077, train acc 0.926, test acc 0.899, time 6.1 sec\n",
      "epoch 10, loss 0.2050, train acc 0.926, test acc 0.887, time 6.2 sec\n",
      "epoch 11, loss 0.2026, train acc 0.928, test acc 0.902, time 6.1 sec\n",
      "epoch 12, loss 0.2049, train acc 0.927, test acc 0.900, time 6.0 sec\n",
      "epoch 13, loss 0.2006, train acc 0.929, test acc 0.887, time 6.2 sec\n",
      "epoch 14, loss 0.1997, train acc 0.929, test acc 0.897, time 6.2 sec\n",
      "epoch 15, loss 0.1948, train acc 0.930, test acc 0.883, time 6.3 sec\n",
      "epoch 16, loss 0.1982, train acc 0.929, test acc 0.893, time 6.3 sec\n",
      "epoch 17, loss 0.1937, train acc 0.931, test acc 0.904, time 6.2 sec\n",
      "epoch 18, loss 0.1913, train acc 0.931, test acc 0.894, time 6.2 sec\n",
      "epoch 19, loss 0.1915, train acc 0.932, test acc 0.899, time 6.1 sec\n",
      "epoch 20, loss 0.1883, train acc 0.933, test acc 0.894, time 6.2 sec\n",
      "epoch 21, loss 0.1873, train acc 0.933, test acc 0.896, time 6.2 sec\n",
      "epoch 22, loss 0.1876, train acc 0.934, test acc 0.899, time 6.3 sec\n",
      "epoch 23, loss 0.1889, train acc 0.933, test acc 0.899, time 6.2 sec\n",
      "epoch 24, loss 0.1847, train acc 0.934, test acc 0.898, time 6.2 sec\n",
      "epoch 25, loss 0.1814, train acc 0.935, test acc 0.899, time 6.2 sec\n",
      "epoch 26, loss 0.1804, train acc 0.934, test acc 0.870, time 6.3 sec\n",
      "epoch 27, loss 0.1798, train acc 0.935, test acc 0.879, time 6.3 sec\n",
      "epoch 28, loss 0.1805, train acc 0.936, test acc 0.904, time 6.3 sec\n",
      "epoch 29, loss 0.1784, train acc 0.937, test acc 0.902, time 6.5 sec\n",
      "epoch 30, loss 0.1768, train acc 0.936, test acc 0.895, time 6.3 sec\n"
     ]
    }
   ],
   "source": [
    "lr, num_epochs = 0.0005, 30\n",
    "trainer = torch.optim.SGD(model5.parameters(), lr=lr)\n",
    "train(model5, train_iter, test_iter, trainer, num_epochs, dev)"
   ]
  },
  {
   "cell_type": "markdown",
   "metadata": {},
   "source": [
    "* есть ощущение, что моделька стала только больше перобучаться"
   ]
  },
  {
   "cell_type": "markdown",
   "metadata": {},
   "source": [
    "### Добавим еще слой конволюции к модели с одним скрытм линейным слоем"
   ]
  },
  {
   "cell_type": "code",
   "execution_count": 153,
   "metadata": {},
   "outputs": [
    {
     "data": {
      "text/plain": [
       "'\\nX = train_dataset[0][0]\\nX = X.reshape(1, 1, 28, 28)\\nprint(X.shape)\\nfor l in model6:\\n    X = l(X)\\n    print(\"Layer {}. X shape: {}\".format(l, X.shape))\\n'"
      ]
     },
     "execution_count": 153,
     "metadata": {},
     "output_type": "execute_result"
    }
   ],
   "source": [
    "model6 = nn.Sequential(\n",
    "    nn.Conv2d(1, 6, kernel_size=5, padding=2),\n",
    "    nn.ReLU(),\n",
    "    nn.MaxPool2d(2, stride=2),\n",
    "    nn.Conv2d(6, 12, kernel_size=5),\n",
    "    nn.ReLU(),\n",
    "    nn.Conv2d(12, 12, kernel_size=5,padding=2),\n",
    "    nn.ReLU(),\n",
    "    nn.MaxPool2d(2, stride=2),\n",
    "    nn.Conv2d(12, 36 ,kernel_size=4,padding=2),\n",
    "    nn.ReLU(),\n",
    "    nn.MaxPool2d(2, stride=2),\n",
    "    nn.Conv2d(36, 144 ,kernel_size=4,padding=2),\n",
    "    nn.ReLU(),\n",
    "    nn.MaxPool2d(2, stride=2),\n",
    "    nn.Flatten(),\n",
    "    nn.BatchNorm1d(576),\n",
    "    nn.Linear(576, 50),\n",
    "    nn.ReLU(),\n",
    "    nn.BatchNorm1d(50),\n",
    "    nn.Dropout(0.3),\n",
    "    nn.Linear(50, 10)\n",
    ")\n",
    "\"\"\"\n",
    "X = train_dataset[0][0]\n",
    "X = X.reshape(1, 1, 28, 28)\n",
    "print(X.shape)\n",
    "for l in model6:\n",
    "    X = l(X)\n",
    "    print(\"Layer {}. X shape: {}\".format(l, X.shape))\n",
    "\"\"\""
   ]
  },
  {
   "cell_type": "code",
   "execution_count": 154,
   "metadata": {},
   "outputs": [
    {
     "name": "stdout",
     "output_type": "stream",
     "text": [
      "epoch 1, loss 1.0226, train acc 0.613, test acc 0.414, time 6.5 sec\n",
      "epoch 2, loss 0.6473, train acc 0.756, test acc 0.699, time 6.4 sec\n",
      "epoch 3, loss 0.5544, train acc 0.796, test acc 0.790, time 6.4 sec\n",
      "epoch 4, loss 0.4794, train acc 0.823, test acc 0.811, time 6.4 sec\n",
      "epoch 5, loss 0.4373, train acc 0.839, test acc 0.838, time 6.4 sec\n",
      "epoch 6, loss 0.3982, train acc 0.853, test acc 0.811, time 6.4 sec\n",
      "epoch 7, loss 0.3761, train acc 0.861, test acc 0.860, time 6.4 sec\n",
      "epoch 8, loss 0.3506, train acc 0.872, test acc 0.860, time 6.3 sec\n",
      "epoch 9, loss 0.3385, train acc 0.876, test acc 0.865, time 6.4 sec\n",
      "epoch 10, loss 0.3255, train acc 0.881, test acc 0.866, time 6.4 sec\n",
      "epoch 11, loss 0.3132, train acc 0.885, test acc 0.884, time 6.4 sec\n",
      "epoch 12, loss 0.3055, train acc 0.888, test acc 0.858, time 6.3 sec\n",
      "epoch 13, loss 0.2949, train acc 0.891, test acc 0.869, time 6.5 sec\n",
      "epoch 14, loss 0.2895, train acc 0.894, test acc 0.862, time 6.4 sec\n",
      "epoch 15, loss 0.2810, train acc 0.896, test acc 0.844, time 6.4 sec\n",
      "epoch 16, loss 0.2864, train acc 0.896, test acc 0.852, time 6.4 sec\n",
      "epoch 17, loss 0.2847, train acc 0.896, test acc 0.888, time 6.4 sec\n",
      "epoch 18, loss 0.2654, train acc 0.902, test acc 0.884, time 6.4 sec\n",
      "epoch 19, loss 0.2590, train acc 0.904, test acc 0.893, time 6.5 sec\n",
      "epoch 20, loss 0.2514, train acc 0.907, test acc 0.882, time 6.6 sec\n",
      "epoch 21, loss 0.2495, train acc 0.909, test acc 0.885, time 6.4 sec\n",
      "epoch 22, loss 0.2433, train acc 0.910, test acc 0.890, time 6.4 sec\n",
      "epoch 23, loss 0.3402, train acc 0.883, test acc 0.784, time 6.4 sec\n",
      "epoch 24, loss 0.3497, train acc 0.871, test acc 0.864, time 6.6 sec\n",
      "epoch 25, loss 0.2995, train acc 0.890, test acc 0.886, time 6.8 sec\n",
      "epoch 26, loss 0.2734, train acc 0.900, test acc 0.894, time 6.7 sec\n",
      "epoch 27, loss 0.2629, train acc 0.903, test acc 0.850, time 6.6 sec\n",
      "epoch 28, loss 0.2535, train acc 0.905, test acc 0.890, time 6.7 sec\n",
      "epoch 29, loss 0.2487, train acc 0.908, test acc 0.869, time 6.8 sec\n",
      "epoch 30, loss 0.2445, train acc 0.910, test acc 0.886, time 6.8 sec\n"
     ]
    }
   ],
   "source": [
    "model6.cuda()\n",
    "lr, num_epochs = 0.001, 30\n",
    "trainer = torch.optim.SGD(model6.parameters(), lr=lr)\n",
    "train(model6, train_iter, test_iter, trainer, num_epochs, dev)"
   ]
  },
  {
   "cell_type": "code",
   "execution_count": 155,
   "metadata": {},
   "outputs": [
    {
     "name": "stdout",
     "output_type": "stream",
     "text": [
      "epoch 1, loss 0.2202, train acc 0.918, test acc 0.895, time 6.6 sec\n",
      "epoch 2, loss 0.2150, train acc 0.921, test acc 0.892, time 6.6 sec\n",
      "epoch 3, loss 0.2104, train acc 0.922, test acc 0.896, time 6.7 sec\n",
      "epoch 4, loss 0.2067, train acc 0.923, test acc 0.904, time 6.7 sec\n",
      "epoch 5, loss 0.2062, train acc 0.924, test acc 0.902, time 6.7 sec\n",
      "epoch 6, loss 0.2009, train acc 0.926, test acc 0.897, time 6.8 sec\n",
      "epoch 7, loss 0.1978, train acc 0.927, test acc 0.901, time 6.9 sec\n",
      "epoch 8, loss 0.1968, train acc 0.927, test acc 0.904, time 6.8 sec\n",
      "epoch 9, loss 0.1923, train acc 0.929, test acc 0.903, time 6.8 sec\n",
      "epoch 10, loss 0.1909, train acc 0.930, test acc 0.903, time 6.5 sec\n",
      "epoch 11, loss 0.1901, train acc 0.930, test acc 0.899, time 6.7 sec\n",
      "epoch 12, loss 0.1863, train acc 0.931, test acc 0.897, time 6.5 sec\n",
      "epoch 13, loss 0.1842, train acc 0.931, test acc 0.904, time 6.4 sec\n",
      "epoch 14, loss 0.1819, train acc 0.932, test acc 0.904, time 6.3 sec\n",
      "epoch 15, loss 0.1797, train acc 0.932, test acc 0.885, time 6.4 sec\n",
      "epoch 16, loss 0.1790, train acc 0.933, test acc 0.873, time 6.4 sec\n",
      "epoch 17, loss 0.1769, train acc 0.934, test acc 0.901, time 6.5 sec\n",
      "epoch 18, loss 0.1728, train acc 0.935, test acc 0.893, time 6.6 sec\n",
      "epoch 19, loss 0.1747, train acc 0.935, test acc 0.893, time 6.5 sec\n",
      "epoch 20, loss 0.1728, train acc 0.934, test acc 0.896, time 6.5 sec\n",
      "epoch 21, loss 0.1680, train acc 0.937, test acc 0.890, time 6.4 sec\n",
      "epoch 22, loss 0.1659, train acc 0.939, test acc 0.902, time 6.5 sec\n",
      "epoch 23, loss 0.1645, train acc 0.939, test acc 0.904, time 6.6 sec\n",
      "epoch 24, loss 0.1627, train acc 0.940, test acc 0.897, time 6.9 sec\n",
      "epoch 25, loss 0.1610, train acc 0.940, test acc 0.902, time 6.7 sec\n",
      "epoch 26, loss 0.1586, train acc 0.940, test acc 0.901, time 6.5 sec\n",
      "epoch 27, loss 0.1569, train acc 0.941, test acc 0.899, time 6.3 sec\n",
      "epoch 28, loss 0.1538, train acc 0.941, test acc 0.899, time 6.5 sec\n",
      "epoch 29, loss 0.1520, train acc 0.944, test acc 0.899, time 6.4 sec\n",
      "epoch 30, loss 0.1566, train acc 0.941, test acc 0.890, time 6.5 sec\n"
     ]
    }
   ],
   "source": [
    "lr, num_epochs = 0.0005, 30\n",
    "trainer = torch.optim.SGD(model6.parameters(), lr=lr)\n",
    "train(model6, train_iter, test_iter, trainer, num_epochs, dev)"
   ]
  },
  {
   "cell_type": "code",
   "execution_count": 156,
   "metadata": {},
   "outputs": [
    {
     "name": "stdout",
     "output_type": "stream",
     "text": [
      "epoch 1, loss 0.1511, train acc 0.942, test acc 0.899, time 6.6 sec\n",
      "epoch 2, loss 0.1499, train acc 0.944, test acc 0.902, time 6.5 sec\n",
      "epoch 3, loss 0.1446, train acc 0.945, test acc 0.903, time 6.6 sec\n",
      "epoch 4, loss 0.1437, train acc 0.947, test acc 0.903, time 6.6 sec\n",
      "epoch 5, loss 0.1436, train acc 0.945, test acc 0.902, time 6.7 sec\n",
      "epoch 6, loss 0.1427, train acc 0.946, test acc 0.897, time 6.6 sec\n",
      "epoch 7, loss 0.1375, train acc 0.948, test acc 0.902, time 6.6 sec\n",
      "epoch 8, loss 0.1335, train acc 0.950, test acc 0.898, time 6.8 sec\n",
      "epoch 9, loss 0.1409, train acc 0.946, test acc 0.903, time 6.5 sec\n",
      "epoch 10, loss 0.1364, train acc 0.947, test acc 0.903, time 6.5 sec\n",
      "epoch 11, loss 0.1346, train acc 0.949, test acc 0.898, time 6.5 sec\n",
      "epoch 12, loss 0.1306, train acc 0.950, test acc 0.899, time 6.3 sec\n",
      "epoch 13, loss 0.1832, train acc 0.933, test acc 0.898, time 6.4 sec\n",
      "epoch 14, loss 0.1480, train acc 0.943, test acc 0.894, time 6.4 sec\n",
      "epoch 15, loss 0.1307, train acc 0.950, test acc 0.899, time 6.6 sec\n",
      "epoch 16, loss 0.1258, train acc 0.952, test acc 0.902, time 6.5 sec\n",
      "epoch 17, loss 0.1257, train acc 0.952, test acc 0.897, time 6.6 sec\n",
      "epoch 18, loss 0.1263, train acc 0.952, test acc 0.898, time 6.5 sec\n",
      "epoch 19, loss 0.1230, train acc 0.954, test acc 0.885, time 6.5 sec\n",
      "epoch 20, loss 0.1187, train acc 0.954, test acc 0.899, time 6.5 sec\n",
      "epoch 21, loss 0.1202, train acc 0.955, test acc 0.905, time 6.5 sec\n",
      "epoch 22, loss 0.1143, train acc 0.956, test acc 0.902, time 6.4 sec\n",
      "epoch 23, loss 0.1207, train acc 0.954, test acc 0.904, time 6.4 sec\n",
      "epoch 24, loss 0.1169, train acc 0.954, test acc 0.900, time 6.4 sec\n",
      "epoch 25, loss 0.1100, train acc 0.958, test acc 0.893, time 6.4 sec\n",
      "epoch 26, loss 0.1123, train acc 0.956, test acc 0.867, time 6.4 sec\n",
      "epoch 27, loss 0.1115, train acc 0.958, test acc 0.903, time 6.4 sec\n",
      "epoch 28, loss 0.1105, train acc 0.958, test acc 0.904, time 6.4 sec\n",
      "epoch 29, loss 0.1086, train acc 0.959, test acc 0.897, time 6.5 sec\n",
      "epoch 30, loss 0.1022, train acc 0.962, test acc 0.898, time 6.4 sec\n",
      "epoch 31, loss 0.1065, train acc 0.959, test acc 0.897, time 6.5 sec\n",
      "epoch 32, loss 0.1045, train acc 0.961, test acc 0.893, time 6.5 sec\n",
      "epoch 33, loss 0.1042, train acc 0.960, test acc 0.897, time 6.5 sec\n",
      "epoch 34, loss 0.0976, train acc 0.963, test acc 0.903, time 6.4 sec\n",
      "epoch 35, loss 0.0964, train acc 0.962, test acc 0.897, time 6.4 sec\n",
      "epoch 36, loss 0.0972, train acc 0.963, test acc 0.899, time 6.5 sec\n",
      "epoch 37, loss 0.0996, train acc 0.961, test acc 0.900, time 6.4 sec\n",
      "epoch 38, loss 0.0968, train acc 0.963, test acc 0.901, time 6.4 sec\n",
      "epoch 39, loss 0.0938, train acc 0.963, test acc 0.899, time 6.5 sec\n",
      "epoch 40, loss 0.0913, train acc 0.965, test acc 0.894, time 6.4 sec\n",
      "epoch 41, loss 0.0932, train acc 0.965, test acc 0.899, time 6.3 sec\n",
      "epoch 42, loss 0.0898, train acc 0.965, test acc 0.894, time 6.4 sec\n",
      "epoch 43, loss 0.0907, train acc 0.965, test acc 0.898, time 6.6 sec\n",
      "epoch 44, loss 0.0916, train acc 0.965, test acc 0.902, time 6.5 sec\n",
      "epoch 45, loss 0.0856, train acc 0.967, test acc 0.900, time 6.5 sec\n",
      "epoch 46, loss 0.0901, train acc 0.965, test acc 0.897, time 6.4 sec\n",
      "epoch 47, loss 0.0874, train acc 0.967, test acc 0.902, time 6.4 sec\n",
      "epoch 48, loss 0.0858, train acc 0.968, test acc 0.903, time 6.4 sec\n",
      "epoch 49, loss 0.0828, train acc 0.967, test acc 0.903, time 6.4 sec\n",
      "epoch 50, loss 0.0830, train acc 0.968, test acc 0.903, time 6.6 sec\n",
      "epoch 51, loss 0.0795, train acc 0.970, test acc 0.898, time 6.5 sec\n",
      "epoch 52, loss 0.0787, train acc 0.970, test acc 0.902, time 6.4 sec\n",
      "epoch 53, loss 0.0772, train acc 0.971, test acc 0.902, time 6.4 sec\n",
      "epoch 54, loss 0.0791, train acc 0.970, test acc 0.901, time 6.4 sec\n",
      "epoch 55, loss 0.0799, train acc 0.969, test acc 0.903, time 6.5 sec\n",
      "epoch 56, loss 0.0779, train acc 0.970, test acc 0.886, time 6.5 sec\n",
      "epoch 57, loss 0.0766, train acc 0.971, test acc 0.895, time 6.4 sec\n",
      "epoch 58, loss 0.0757, train acc 0.971, test acc 0.897, time 6.3 sec\n",
      "epoch 59, loss 0.0729, train acc 0.972, test acc 0.895, time 6.3 sec\n",
      "epoch 60, loss 0.0769, train acc 0.971, test acc 0.901, time 6.4 sec\n",
      "epoch 61, loss 0.0707, train acc 0.973, test acc 0.890, time 6.4 sec\n",
      "epoch 62, loss 0.0708, train acc 0.973, test acc 0.897, time 6.5 sec\n",
      "epoch 63, loss 0.0681, train acc 0.974, test acc 0.896, time 6.6 sec\n",
      "epoch 64, loss 0.0678, train acc 0.974, test acc 0.900, time 6.5 sec\n",
      "epoch 65, loss 0.0725, train acc 0.972, test acc 0.900, time 6.5 sec\n",
      "epoch 66, loss 0.0662, train acc 0.975, test acc 0.895, time 6.4 sec\n",
      "epoch 67, loss 0.0657, train acc 0.975, test acc 0.897, time 6.4 sec\n",
      "epoch 68, loss 0.0618, train acc 0.977, test acc 0.891, time 6.4 sec\n",
      "epoch 69, loss 0.0610, train acc 0.977, test acc 0.897, time 6.4 sec\n",
      "epoch 70, loss 0.0653, train acc 0.975, test acc 0.895, time 6.6 sec\n",
      "epoch 71, loss 0.0629, train acc 0.976, test acc 0.902, time 6.4 sec\n",
      "epoch 72, loss 0.0616, train acc 0.977, test acc 0.898, time 6.5 sec\n",
      "epoch 73, loss 0.0574, train acc 0.979, test acc 0.899, time 6.4 sec\n",
      "epoch 74, loss 0.0576, train acc 0.978, test acc 0.901, time 6.3 sec\n",
      "epoch 75, loss 0.0598, train acc 0.978, test acc 0.891, time 6.4 sec\n",
      "epoch 76, loss 0.0612, train acc 0.976, test acc 0.900, time 6.4 sec\n",
      "epoch 77, loss 0.0587, train acc 0.978, test acc 0.898, time 6.5 sec\n",
      "epoch 78, loss 0.0554, train acc 0.979, test acc 0.896, time 6.4 sec\n",
      "epoch 79, loss 0.0554, train acc 0.979, test acc 0.903, time 6.3 sec\n",
      "epoch 80, loss 0.0548, train acc 0.979, test acc 0.900, time 6.4 sec\n"
     ]
    }
   ],
   "source": [
    "lr, num_epochs = 0.0005, 80\n",
    "trainer = torch.optim.SGD(model6.parameters(), lr=lr)\n",
    "train(model6, train_iter, test_iter, trainer, num_epochs, dev)"
   ]
  },
  {
   "cell_type": "markdown",
   "metadata": {},
   "source": [
    "* Более сложная модель переобучавется на трейне, а на тесте показывает даже худший реузльтат"
   ]
  },
  {
   "cell_type": "markdown",
   "metadata": {},
   "source": [
    "### Возьмем модельку, что была попроще, а давали лучший резхультат ип ропобуем ее Адамом поучить"
   ]
  },
  {
   "cell_type": "code",
   "execution_count": 147,
   "metadata": {},
   "outputs": [],
   "source": [
    "model3 = nn.Sequential(\n",
    "    nn.Conv2d(1, 6, kernel_size=5, padding=2),\n",
    "    nn.ReLU(),\n",
    "    nn.MaxPool2d(2, stride=2),\n",
    "    nn.Conv2d(6, 12, kernel_size=5),\n",
    "    nn.ReLU(),\n",
    "    nn.Conv2d(12, 12, kernel_size=5,padding=2),\n",
    "    nn.ReLU(),\n",
    "    nn.MaxPool2d(2, stride=2),\n",
    "    nn.Flatten(),\n",
    "    nn.BatchNorm1d(300),\n",
    "    nn.Linear(300, 50),\n",
    "    nn.ReLU(),\n",
    "    nn.BatchNorm1d(50),\n",
    "    nn.Dropout(0.3),\n",
    "    nn.Linear(50, 10)\n",
    ")"
   ]
  },
  {
   "cell_type": "code",
   "execution_count": 148,
   "metadata": {},
   "outputs": [
    {
     "name": "stdout",
     "output_type": "stream",
     "text": [
      "epoch 1, loss 0.7799, train acc 0.753, test acc 0.833, time 5.9 sec\n",
      "epoch 2, loss 0.4229, train acc 0.854, test acc 0.860, time 5.9 sec\n",
      "epoch 3, loss 0.3573, train acc 0.875, test acc 0.875, time 5.9 sec\n",
      "epoch 4, loss 0.3195, train acc 0.888, test acc 0.881, time 6.0 sec\n",
      "epoch 5, loss 0.3015, train acc 0.893, test acc 0.884, time 6.0 sec\n",
      "epoch 6, loss 0.2843, train acc 0.899, test acc 0.881, time 6.0 sec\n",
      "epoch 7, loss 0.2770, train acc 0.901, test acc 0.889, time 6.0 sec\n",
      "epoch 8, loss 0.2650, train acc 0.905, test acc 0.892, time 6.0 sec\n",
      "epoch 9, loss 0.2578, train acc 0.907, test acc 0.891, time 6.1 sec\n",
      "epoch 10, loss 0.2506, train acc 0.910, test acc 0.882, time 6.4 sec\n",
      "epoch 11, loss 0.2486, train acc 0.910, test acc 0.893, time 6.3 sec\n",
      "epoch 12, loss 0.2400, train acc 0.912, test acc 0.898, time 6.1 sec\n",
      "epoch 13, loss 0.2321, train acc 0.916, test acc 0.896, time 6.0 sec\n",
      "epoch 14, loss 0.2300, train acc 0.917, test acc 0.899, time 6.0 sec\n",
      "epoch 15, loss 0.2279, train acc 0.917, test acc 0.886, time 6.0 sec\n",
      "epoch 16, loss 0.2198, train acc 0.920, test acc 0.895, time 6.0 sec\n",
      "epoch 17, loss 0.2162, train acc 0.922, test acc 0.893, time 6.0 sec\n",
      "epoch 18, loss 0.2155, train acc 0.922, test acc 0.903, time 6.1 sec\n",
      "epoch 19, loss 0.2131, train acc 0.923, test acc 0.888, time 6.0 sec\n",
      "epoch 20, loss 0.2074, train acc 0.924, test acc 0.890, time 6.1 sec\n",
      "epoch 21, loss 0.2063, train acc 0.924, test acc 0.893, time 6.1 sec\n",
      "epoch 22, loss 0.2027, train acc 0.926, test acc 0.904, time 6.3 sec\n",
      "epoch 23, loss 0.1993, train acc 0.927, test acc 0.898, time 6.2 sec\n",
      "epoch 24, loss 0.1997, train acc 0.927, test acc 0.889, time 6.2 sec\n",
      "epoch 25, loss 0.1967, train acc 0.928, test acc 0.886, time 6.2 sec\n",
      "epoch 26, loss 0.1932, train acc 0.929, test acc 0.898, time 5.9 sec\n",
      "epoch 27, loss 0.1882, train acc 0.930, test acc 0.899, time 6.0 sec\n",
      "epoch 28, loss 0.1922, train acc 0.929, test acc 0.901, time 5.9 sec\n",
      "epoch 29, loss 0.1862, train acc 0.932, test acc 0.903, time 6.0 sec\n",
      "epoch 30, loss 0.1848, train acc 0.933, test acc 0.904, time 6.2 sec\n"
     ]
    }
   ],
   "source": [
    "model3.cuda()\n",
    "lr, num_epochs = 0.001, 30\n",
    "trainer = torch.optim.Adam(model3.parameters(), lr=lr)\n",
    "train(model3, train_iter, test_iter, trainer, num_epochs, dev)"
   ]
  },
  {
   "cell_type": "code",
   "execution_count": 149,
   "metadata": {},
   "outputs": [
    {
     "name": "stdout",
     "output_type": "stream",
     "text": [
      "epoch 1, loss 0.1720, train acc 0.937, test acc 0.905, time 6.1 sec\n",
      "epoch 2, loss 0.1667, train acc 0.939, test acc 0.900, time 6.0 sec\n",
      "epoch 3, loss 0.1659, train acc 0.940, test acc 0.904, time 6.0 sec\n",
      "epoch 4, loss 0.1615, train acc 0.940, test acc 0.907, time 6.0 sec\n",
      "epoch 5, loss 0.1640, train acc 0.940, test acc 0.905, time 6.0 sec\n",
      "epoch 6, loss 0.1610, train acc 0.941, test acc 0.903, time 6.0 sec\n",
      "epoch 7, loss 0.1591, train acc 0.941, test acc 0.905, time 6.0 sec\n",
      "epoch 8, loss 0.1581, train acc 0.942, test acc 0.903, time 6.0 sec\n",
      "epoch 9, loss 0.1548, train acc 0.943, test acc 0.901, time 6.0 sec\n",
      "epoch 10, loss 0.1556, train acc 0.942, test acc 0.906, time 5.9 sec\n",
      "epoch 11, loss 0.1557, train acc 0.942, test acc 0.905, time 5.9 sec\n",
      "epoch 12, loss 0.1531, train acc 0.944, test acc 0.908, time 6.1 sec\n",
      "epoch 13, loss 0.1521, train acc 0.944, test acc 0.906, time 6.0 sec\n",
      "epoch 14, loss 0.1522, train acc 0.944, test acc 0.904, time 6.1 sec\n",
      "epoch 15, loss 0.1503, train acc 0.944, test acc 0.904, time 6.0 sec\n",
      "epoch 16, loss 0.1480, train acc 0.945, test acc 0.907, time 6.1 sec\n",
      "epoch 17, loss 0.1475, train acc 0.946, test acc 0.906, time 6.0 sec\n",
      "epoch 18, loss 0.1477, train acc 0.945, test acc 0.906, time 5.9 sec\n",
      "epoch 19, loss 0.1475, train acc 0.945, test acc 0.907, time 6.0 sec\n",
      "epoch 20, loss 0.1470, train acc 0.945, test acc 0.905, time 6.0 sec\n",
      "epoch 21, loss 0.1455, train acc 0.946, test acc 0.906, time 6.1 sec\n",
      "epoch 22, loss 0.1443, train acc 0.947, test acc 0.907, time 6.1 sec\n",
      "epoch 23, loss 0.1440, train acc 0.946, test acc 0.906, time 6.2 sec\n",
      "epoch 24, loss 0.1421, train acc 0.947, test acc 0.908, time 6.1 sec\n",
      "epoch 25, loss 0.1413, train acc 0.948, test acc 0.906, time 5.9 sec\n",
      "epoch 26, loss 0.1439, train acc 0.946, test acc 0.905, time 5.9 sec\n",
      "epoch 27, loss 0.1421, train acc 0.947, test acc 0.908, time 6.0 sec\n",
      "epoch 28, loss 0.1383, train acc 0.949, test acc 0.901, time 6.0 sec\n",
      "epoch 29, loss 0.1393, train acc 0.948, test acc 0.900, time 6.1 sec\n",
      "epoch 30, loss 0.1412, train acc 0.947, test acc 0.905, time 6.0 sec\n"
     ]
    }
   ],
   "source": [
    "\n",
    "lr, num_epochs = 0.0005, 30\n",
    "trainer = torch.optim.Adam(model3.parameters(), lr=lr)\n",
    "train(model3, train_iter, test_iter, trainer, num_epochs, dev)"
   ]
  },
  {
   "cell_type": "code",
   "execution_count": 150,
   "metadata": {},
   "outputs": [
    {
     "name": "stdout",
     "output_type": "stream",
     "text": [
      "epoch 1, loss 0.1274, train acc 0.953, test acc 0.908, time 6.1 sec\n",
      "epoch 2, loss 0.1234, train acc 0.954, test acc 0.906, time 5.9 sec\n",
      "epoch 3, loss 0.1227, train acc 0.955, test acc 0.908, time 5.9 sec\n",
      "epoch 4, loss 0.1208, train acc 0.956, test acc 0.908, time 5.9 sec\n",
      "epoch 5, loss 0.1201, train acc 0.956, test acc 0.907, time 6.0 sec\n",
      "epoch 6, loss 0.1198, train acc 0.955, test acc 0.909, time 6.0 sec\n",
      "epoch 7, loss 0.1193, train acc 0.956, test acc 0.908, time 6.0 sec\n",
      "epoch 8, loss 0.1194, train acc 0.956, test acc 0.908, time 6.0 sec\n",
      "epoch 9, loss 0.1195, train acc 0.956, test acc 0.908, time 6.0 sec\n",
      "epoch 10, loss 0.1187, train acc 0.956, test acc 0.908, time 6.0 sec\n",
      "epoch 11, loss 0.1182, train acc 0.956, test acc 0.908, time 6.1 sec\n",
      "epoch 12, loss 0.1191, train acc 0.955, test acc 0.907, time 6.0 sec\n",
      "epoch 13, loss 0.1181, train acc 0.957, test acc 0.908, time 6.1 sec\n",
      "epoch 14, loss 0.1178, train acc 0.957, test acc 0.907, time 6.0 sec\n",
      "epoch 15, loss 0.1195, train acc 0.955, test acc 0.908, time 5.9 sec\n",
      "epoch 16, loss 0.1185, train acc 0.956, test acc 0.908, time 5.9 sec\n",
      "epoch 17, loss 0.1166, train acc 0.956, test acc 0.907, time 6.0 sec\n",
      "epoch 18, loss 0.1170, train acc 0.956, test acc 0.907, time 6.0 sec\n",
      "epoch 19, loss 0.1164, train acc 0.957, test acc 0.906, time 6.0 sec\n",
      "epoch 20, loss 0.1174, train acc 0.956, test acc 0.908, time 6.1 sec\n",
      "epoch 21, loss 0.1161, train acc 0.957, test acc 0.907, time 5.9 sec\n",
      "epoch 22, loss 0.1155, train acc 0.958, test acc 0.908, time 5.9 sec\n",
      "epoch 23, loss 0.1151, train acc 0.958, test acc 0.906, time 5.9 sec\n",
      "epoch 24, loss 0.1153, train acc 0.958, test acc 0.907, time 5.9 sec\n",
      "epoch 25, loss 0.1152, train acc 0.957, test acc 0.907, time 5.9 sec\n",
      "epoch 26, loss 0.1153, train acc 0.958, test acc 0.907, time 6.0 sec\n",
      "epoch 27, loss 0.1158, train acc 0.957, test acc 0.906, time 6.1 sec\n",
      "epoch 28, loss 0.1136, train acc 0.958, test acc 0.907, time 5.8 sec\n",
      "epoch 29, loss 0.1134, train acc 0.957, test acc 0.906, time 5.9 sec\n",
      "epoch 30, loss 0.1156, train acc 0.957, test acc 0.908, time 5.9 sec\n"
     ]
    }
   ],
   "source": [
    "\n",
    "lr, num_epochs = 0.0001, 30\n",
    "trainer = torch.optim.Adam(model3.parameters(), lr=lr)\n",
    "train(model3, train_iter, test_iter, trainer, num_epochs, dev)"
   ]
  },
  {
   "cell_type": "markdown",
   "metadata": {},
   "source": [
    "* видимо, в какой-то минимум мы пришли, 90,8 на тесте\n"
   ]
  },
  {
   "cell_type": "markdown",
   "metadata": {},
   "source": [
    "### В качесте вывода, можно отметить, что с какого-то момента усложнение архитерутры ведет к переобучению  или я неправильно усложняю"
   ]
  },
  {
   "cell_type": "code",
   "execution_count": null,
   "metadata": {},
   "outputs": [],
   "source": []
  }
 ],
 "metadata": {
  "kernelspec": {
   "display_name": "Python 3",
   "language": "python",
   "name": "python3"
  },
  "language_info": {
   "codemirror_mode": {
    "name": "ipython",
    "version": 3
   },
   "file_extension": ".py",
   "mimetype": "text/x-python",
   "name": "python",
   "nbconvert_exporter": "python",
   "pygments_lexer": "ipython3",
   "version": "3.6.9"
  }
 },
 "nbformat": 4,
 "nbformat_minor": 2
}
